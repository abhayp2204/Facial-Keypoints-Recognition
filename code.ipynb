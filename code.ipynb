{
 "cells": [
  {
   "cell_type": "markdown",
   "metadata": {},
   "source": [
    "# Facial Keypoints Detection"
   ]
  },
  {
   "cell_type": "code",
   "execution_count": 2,
   "metadata": {},
   "outputs": [],
   "source": [
    "import numpy as np\n",
    "import pandas as pd\n",
    "import matplotlib.pyplot as plt\n",
    "import seaborn as sns\n",
    "import tensorflow as tf"
   ]
  },
  {
   "cell_type": "markdown",
   "metadata": {},
   "source": [
    "# Read the data"
   ]
  },
  {
   "cell_type": "code",
   "execution_count": 5,
   "metadata": {},
   "outputs": [],
   "source": [
    "train = pd.read_csv(\"./data/training.csv\")\n",
    "test = pd.read_csv(\"./data/test.csv\")\n",
    "lookup = pd.read_csv(\"./data/IdLookupTable.csv\")\n",
    "sample = pd.read_csv(\"./data/SampleSubmission.csv\")"
   ]
  },
  {
   "cell_type": "code",
   "execution_count": 6,
   "metadata": {},
   "outputs": [
    {
     "name": "stdout",
     "output_type": "stream",
     "text": [
      "Train data length =  7049\n",
      "Test data length =  1783\n"
     ]
    }
   ],
   "source": [
    "print(\"Train data length = \", len(train))\n",
    "print(\"Test data length = \", len(test))"
   ]
  },
  {
   "cell_type": "markdown",
   "metadata": {},
   "source": [
    "# Check for nulls and split into good data and bad data"
   ]
  },
  {
   "cell_type": "code",
   "execution_count": 16,
   "metadata": {},
   "outputs": [
    {
     "name": "stdout",
     "output_type": "stream",
     "text": [
      "Feature \t\t\t Missing \t Percentage\n",
      "\n",
      "left_eye_center_x              :      10 \t 0.0%\n",
      "left_eye_center_y              :      10 \t 0.0%\n",
      "right_eye_center_x             :      13 \t 0.0%\n",
      "right_eye_center_y             :      13 \t 0.0%\n",
      "left_eye_inner_corner_x        :    4778 \t 0.68%\n",
      "left_eye_inner_corner_y        :    4778 \t 0.68%\n",
      "left_eye_outer_corner_x        :    4782 \t 0.68%\n",
      "left_eye_outer_corner_y        :    4782 \t 0.68%\n",
      "right_eye_inner_corner_x       :    4781 \t 0.68%\n",
      "right_eye_inner_corner_y       :    4781 \t 0.68%\n",
      "right_eye_outer_corner_x       :    4781 \t 0.68%\n",
      "right_eye_outer_corner_y       :    4781 \t 0.68%\n",
      "left_eyebrow_inner_end_x       :    4779 \t 0.68%\n",
      "left_eyebrow_inner_end_y       :    4779 \t 0.68%\n",
      "left_eyebrow_outer_end_x       :    4824 \t 0.68%\n",
      "left_eyebrow_outer_end_y       :    4824 \t 0.68%\n",
      "right_eyebrow_inner_end_x      :    4779 \t 0.68%\n",
      "right_eyebrow_inner_end_y      :    4779 \t 0.68%\n",
      "right_eyebrow_outer_end_x      :    4813 \t 0.68%\n",
      "right_eyebrow_outer_end_y      :    4813 \t 0.68%\n",
      "nose_tip_x                     :       0 \t 0.0%\n",
      "nose_tip_y                     :       0 \t 0.0%\n",
      "mouth_left_corner_x            :    4780 \t 0.68%\n",
      "mouth_left_corner_y            :    4780 \t 0.68%\n",
      "mouth_right_corner_x           :    4779 \t 0.68%\n",
      "mouth_right_corner_y           :    4779 \t 0.68%\n",
      "mouth_center_top_lip_x         :    4774 \t 0.68%\n",
      "mouth_center_top_lip_y         :    4774 \t 0.68%\n",
      "mouth_center_bottom_lip_x      :      33 \t 0.0%\n",
      "mouth_center_bottom_lip_y      :      33 \t 0.0%\n",
      "Image                          :       0 \t 0.0%\n"
     ]
    }
   ],
   "source": [
    "# check for null values\n",
    "print(f\"Feature \\t\\t\\t Missing \\t Percentage\\n\")\n",
    "for k, v in train.isna().sum().items():\n",
    "    print(f\"{k !s:30} :{v :8} \\t {round(v/len(train), 2)}%\")"
   ]
  },
  {
   "cell_type": "code",
   "execution_count": 17,
   "metadata": {},
   "outputs": [],
   "source": [
    "# split into good data and bad data\n",
    "good_train = train.dropna()\n",
    "bad_train = train.drop(index=good_train.index)"
   ]
  },
  {
   "cell_type": "markdown",
   "metadata": {},
   "source": [
    "# Work on the Good Data"
   ]
  },
  {
   "cell_type": "code",
   "execution_count": 41,
   "metadata": {},
   "outputs": [
    {
     "data": {
      "text/plain": [
       "(2140, 31)"
      ]
     },
     "execution_count": 41,
     "metadata": {},
     "output_type": "execute_result"
    }
   ],
   "source": [
    "good_train.shape"
   ]
  },
  {
   "cell_type": "code",
   "execution_count": 25,
   "metadata": {},
   "outputs": [
    {
     "data": {
      "text/plain": [
       "0    238 236 237 238 240 240 239 241 241 243 240 23...\n",
       "1    219 215 204 196 204 211 212 200 180 168 178 19...\n",
       "2    144 142 159 180 188 188 184 180 167 132 84 59 ...\n",
       "3    193 192 193 194 194 194 193 192 168 111 50 12 ...\n",
       "4    147 148 160 196 215 214 216 217 219 220 206 18...\n",
       "Name: Image, dtype: object"
      ]
     },
     "execution_count": 25,
     "metadata": {},
     "output_type": "execute_result"
    }
   ],
   "source": [
    "good_train[\"Image\"].head()"
   ]
  },
  {
   "cell_type": "markdown",
   "metadata": {},
   "source": [
    "# Function that extracts the images and targets from a CSV file"
   ]
  },
  {
   "cell_type": "code",
   "execution_count": 42,
   "metadata": {},
   "outputs": [],
   "source": [
    "def get_images(data):\n",
    "    images = []\n",
    "\n",
    "    # prepare the image\n",
    "    for img in iter(data.loc[:, \"Image\"]):\n",
    "        img = np.array(img.split(), dtype=float)\n",
    "        img = img.reshape(96, 96, 1)\n",
    "        images.append(img)\n",
    "    return np.array(images)\n",
    "\n",
    "def get_xy(data):\n",
    "    images = get_images(data)\n",
    "    targets = np.array(data.iloc[:, :-1], dtype=float)\n",
    "    return images, targets"
   ]
  },
  {
   "cell_type": "code",
   "execution_count": 43,
   "metadata": {},
   "outputs": [],
   "source": [
    "images, targets = get_xy(good_train)"
   ]
  },
  {
   "cell_type": "code",
   "execution_count": 44,
   "metadata": {},
   "outputs": [
    {
     "name": "stdout",
     "output_type": "stream",
     "text": [
      "Shape of images =  (2140, 96, 96, 1)\n",
      "Shape of targets =  (2140, 30)\n"
     ]
    }
   ],
   "source": [
    "print(\"Shape of images = \", images.shape)\n",
    "print(\"Shape of targets = \", targets.shape)"
   ]
  },
  {
   "cell_type": "markdown",
   "metadata": {},
   "source": [
    "# Display the images"
   ]
  },
  {
   "cell_type": "code",
   "execution_count": 52,
   "metadata": {},
   "outputs": [],
   "source": [
    "def show_image(img, feat):\n",
    "    plt.imshow(img, cmap=plt.cm.gray)\n",
    "    plt.scatter(feat[0::2], feat[1::2], c=\"r\", marker=\"x\")"
   ]
  },
  {
   "cell_type": "code",
   "execution_count": 53,
   "metadata": {},
   "outputs": [
    {
     "data": {
      "image/png": "[encoded data removed]",
      "text/plain": [
       "<Figure size 640x480 with 1 Axes>"
      ]
     },
     "metadata": {},
     "output_type": "display_data"
    }
   ],
   "source": [
    "show_image(images[0], targets[0])\n",
    "# hello"
   ]
  },
  {
   "cell_type": "code",
   "execution_count": null,
   "metadata": {},
   "outputs": [],
   "source": []
  }
 ],
 "metadata": {
  "kernelspec": {
   "display_name": "Python 3.10.8 64-bit (microsoft store)",
   "language": "python",
   "name": "python3"
  },
  "language_info": {
   "codemirror_mode": {
    "name": "ipython",
    "version": 3
   },
   "file_extension": ".py",
   "mimetype": "text/x-python",
   "name": "python",
   "nbconvert_exporter": "python",
   "pygments_lexer": "ipython3",
   "version": "3.10.8"
  },
  "orig_nbformat": 4,
  "vscode": {
   "interpreter": {
    "hash": "94f4693ad758032fd28f9ecc08daa4776caeeaf7af79843cea3e1525fe817927"
   }
  }
 },
 "nbformat": 4,
 "nbformat_minor": 2
}
